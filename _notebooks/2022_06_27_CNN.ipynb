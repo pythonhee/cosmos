{
  "nbformat": 4,
  "nbformat_minor": 0,
  "metadata": {
    "colab": {
      "name": "2022-06-27-CNN.ipynb",
      "provenance": []
    },
    "kernelspec": {
      "name": "python3",
      "display_name": "Python 3"
    },
    "language_info": {
      "name": "python"
    }
  },
  "cells": [
    {
      "cell_type": "markdown",
      "source": [
        "\n",
        "\n",
        " > 기초 배우기\n",
        "\n",
        "\n",
        "1.   6_1_linear_regression\n",
        "\n",
        "\n",
        "\n"
      ],
      "metadata": {
        "id": "D3PLxAAsavS8"
      }
    },
    {
      "cell_type": "markdown",
      "source": [
        "## 6_1_linear_regression\n",
        "\n"
      ],
      "metadata": {
        "id": "9hbeJ2wZBpxK"
      }
    },
    {
      "cell_type": "markdown",
      "source": [
        "`Q` cost함수를 생성하시오"
      ],
      "metadata": {
        "id": "Z0ehmZA-B7fg"
      }
    },
    {
      "cell_type": "code",
      "source": [
        "def cost(x, y, w):\n",
        "  c = 0\n",
        "  for i in range(len(x)):\n",
        "    hx = x[i] * w \n",
        "    c += (hx - y[i]) ** 2\n",
        "  \n",
        "  return c / len(x)"
      ],
      "metadata": {
        "id": "_CKPKIA3ByHp"
      },
      "execution_count": null,
      "outputs": []
    },
    {
      "cell_type": "markdown",
      "source": [
        "`Q` gradient_descent 함수를 생성하시오"
      ],
      "metadata": {
        "id": "duL8ob1_MdLE"
      }
    },
    {
      "cell_type": "code",
      "source": [
        "def gradient_descent(x, y, w):\n",
        "  c = 0\n",
        "  for i in range(len(x)):\n",
        "    hx = w * x[i]\n",
        "    # c += [2 * (hx - y[i])] * (hx - y[i])\n",
        "    # c += [2 * (hx - y[i])] * (w * x[i] - y[i])\n",
        "    # c += 2 * hx - y[i] * x[i]\n",
        "    c += (hx - y[i]) * x[i]\n",
        "\n",
        "  return c / len(x)"
      ],
      "metadata": {
        "id": "Rt0OpOMoMYCc"
      },
      "execution_count": null,
      "outputs": []
    },
    {
      "cell_type": "markdown",
      "source": [
        "`Q` cost 확인하기\n",
        "- w, c를 그래프로 나타내시오"
      ],
      "metadata": {
        "id": "_JlnLrEGNjBM"
      }
    },
    {
      "cell_type": "code",
      "source": [
        "import matplotlib.pyplot as plt"
      ],
      "metadata": {
        "id": "oWsdOj_hOpNP"
      },
      "execution_count": null,
      "outputs": []
    },
    {
      "cell_type": "code",
      "source": [
        "def show_cost():\n",
        "  x = [1, 2, 3]\n",
        "  y = [1, 2, 3]\n",
        "\n",
        "#  print(cost(x, y, 0))  w = 0 \n",
        "#  print(cost(x, y, 1))  w = 1\n",
        "#  print(cost(x, y, 2))  w = 2\n",
        "\n",
        "  for i in range(-30, 50):\n",
        "    w = i / 10          # w = - 3.0 ~ 4.9\n",
        "    c = cost(x, y, w)\n",
        "    # print(w, c)\n",
        "\n",
        "    plt.plot(w, c, 'ro')\n",
        "  plt.show()"
      ],
      "metadata": {
        "id": "g9t2-S9eNfMY"
      },
      "execution_count": null,
      "outputs": []
    },
    {
      "cell_type": "code",
      "source": [
        "show_cost()"
      ],
      "metadata": {
        "colab": {
          "base_uri": "https://localhost:8080/",
          "height": 265
        },
        "id": "BmnzvgmGRrui",
        "outputId": "9e140c5a-a934-4eef-915f-86637a2bd4e0"
      },
      "execution_count": null,
      "outputs": [
        {
          "output_type": "display_data",
          "data": {
            "text/plain": [
              "<Figure size 432x288 with 1 Axes>"
            ],
            "image/png": "[encoded data removed]"
          },
          "metadata": {
            "needs_background": "light"
          }
        }
      ]
    },
    {
      "cell_type": "markdown",
      "source": [
        "`Q` w 값을 1로 만드는 함수를 생성하고 x가 5, 7 값을 가질 때 y를 예측하시오. "
      ],
      "metadata": {
        "id": "-R5zd9bQY-lk"
      }
    },
    {
      "cell_type": "code",
      "source": [
        "def show_gradient():\n",
        "    x = [1, 2, 3]\n",
        "    y = [1, 2, 3]\n",
        "\n",
        "    w = 5\n",
        "    for i in range(10):\n",
        "        c = cost(x, y, w)\n",
        "        g = gradient_descent(x, y, w)\n",
        "        w -= 0.1 * g\n",
        "\n",
        "        print(i, w)\n",
        "\n",
        "    print('5 ->', w * 5)\n",
        "    print('7 ->', w * 7)"
      ],
      "metadata": {
        "id": "Y7QcKIrrS_jb"
      },
      "execution_count": null,
      "outputs": []
    },
    {
      "cell_type": "code",
      "source": [
        "show_gradient()"
      ],
      "metadata": {
        "colab": {
          "base_uri": "https://localhost:8080/"
        },
        "id": "ELWcnq-8Wbxb",
        "outputId": "96ec0b5d-c9c0-4068-c8ec-c1739ab27d83"
      },
      "execution_count": null,
      "outputs": [
        {
          "output_type": "stream",
          "name": "stdout",
          "text": [
            "0 3.133333333333333\n",
            "1 2.1377777777777776\n",
            "2 1.6068148148148147\n",
            "3 1.3236345679012345\n",
            "4 1.1726051028806583\n",
            "5 1.0920560548696845\n",
            "6 1.049096562597165\n",
            "7 1.0261848333851546\n",
            "8 1.0139652444720824\n",
            "9 1.0074481303851106\n",
            "5 -> 5.037240651925553\n",
            "7 -> 7.052136912695774\n"
          ]
        }
      ]
    },
    {
      "cell_type": "code",
      "source": [
        ""
      ],
      "metadata": {
        "id": "vt6yqY_jadgu"
      },
      "execution_count": null,
      "outputs": []
    }
  ]
}