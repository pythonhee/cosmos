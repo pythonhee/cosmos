{
  "nbformat": 4,
  "nbformat_minor": 0,
  "metadata": {
    "colab": {
      "name": "github",
      "provenance": [],
      "authorship_tag": "ABX9TyMCyq+3CGJiCUVG6rOisKEo",
      "include_colab_link": true
    },
    "kernelspec": {
      "name": "python3",
      "display_name": "Python 3"
    },
    "language_info": {
      "name": "python"
    }
  },
  "cells": [
    {
      "cell_type": "markdown",
      "metadata": {
        "id": "view-in-github",
        "colab_type": "text"
      },
      "source": [
        "<a href=\"https://colab.research.google.com/github/pythonhee/cosmos/blob/master/github.ipynb\" target=\"_parent\"><img src=\"https://colab.research.google.com/assets/colab-badge.svg\" alt=\"Open In Colab\"/></a>"
      ]
    },
    {
      "cell_type": "markdown",
      "source": [
        "#15_1_softmax_regression_iris\n"
      ],
      "metadata": {
        "id": "19trYvZpXzXW"
      }
    },
    {
      "cell_type": "code",
      "execution_count": 1,
      "metadata": {
        "id": "IXj-1lEhXr0m"
      },
      "outputs": [],
      "source": [
        "import pandas as pd\n",
        "import numpy as np\n",
        "import tensorflow as tf\n",
        "from tensorflow import keras\n",
        "from sklearn import preprocessing, model_selection"
      ]
    },
    {
      "cell_type": "code",
      "source": [
        "def softmax_regression_iris_onehot():\n",
        "\n",
        "  iris = pd.read_csv('/content/iris.csv')\n",
        "\n",
        "  x = iris.values[:, :-1]\n",
        "  y = iris.values[:, -1:]\n",
        "\n",
        "  x = np.float32(x)\n",
        "\n",
        "  bin = preprocessing.LabelBinarizer()\n",
        "  y = bin.fit_transform(iris.variety)         # y를 여기서 정의 했으니 위에 y는 정의하지 않아도 가능하다. \n",
        "\n",
        "  x_train, x_test, y_train, y_test = model_selection.train_test_split(x, y, test_size = 0.3)\n",
        "\n",
        "  model = keras.Sequential()\n",
        "  model.add(keras.layers.Dense(3, activation = 'softmax'))\n",
        "\n",
        "  model.compile(optimizer = keras.optimizers.SGD(0.01),\n",
        "                loss = keras.losses.categorical_crossentropy,     # 서로 곱하기 0이면 0으로 0이 아니면 1로 처리 \n",
        "                metrics = ['acc'])                                # acc를 추가해주면 모델 생성시 acc도 같이 출력\n",
        "\n",
        "  model.fit(x_train, y_train, epochs = 10, verbose = 2)           # verbose 0 => 과정 생략, 1 => 전부 출력, 2 => 일부 출력(요약)\n",
        "  print('acc :', model.evaluate(x_test, y_test, verbose = 0))\n",
        "\n",
        "  # 직접 acc 구하기 \n",
        "\n",
        "  p = model.predict(x_test, verbose = 0)\n",
        "\n",
        "  p_arg = np.argmax(p, axis = 1)                                  # argmax = 가장 값이 큰 인덱스를 뽑아내는 함수 \n",
        "  y_arg = np.argmax(y_test, axis = 1)\n",
        "\n",
        "  print('acc :', np.mean(p_arg == y_arg))\n",
        "  "
      ],
      "metadata": {
        "id": "g2OVyviwYi_D"
      },
      "execution_count": 31,
      "outputs": []
    },
    {
      "cell_type": "code",
      "source": [
        "softmax_regression_iris_onehot()"
      ],
      "metadata": {
        "id": "f6JcMofxYw6N"
      },
      "execution_count": null,
      "outputs": []
    }
  ]
}