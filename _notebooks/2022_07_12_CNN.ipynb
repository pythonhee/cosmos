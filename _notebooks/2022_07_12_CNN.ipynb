{
  "nbformat": 4,
  "nbformat_minor": 0,
  "metadata": {
    "colab": {
      "name": "Untitled9.ipynb",
      "provenance": []
    },
    "kernelspec": {
      "name": "python3",
      "display_name": "Python 3"
    },
    "language_info": {
      "name": "python"
    }
  },
  "cells": [
    {
      "cell_type": "markdown",
      "source": [
        "# 17_1_lenet5"
      ],
      "metadata": {
        "id": "Uwv4cw1qiaL3"
      }
    },
    {
      "cell_type": "code",
      "execution_count": null,
      "metadata": {
        "id": "5DhlnjVRiWzL"
      },
      "outputs": [],
      "source": [
        "from tensorflow import keras"
      ]
    },
    {
      "cell_type": "code",
      "source": [
        "mnist = keras.datasets.mnist.load_data()\n",
        "(x_train, y_train), (x_test, y_test) = mnist\n",
        "print(x_train.shape)          # (60000, 28, 28)\n",
        "\n",
        "x_train = x_train / 255\n",
        "x_test = x_test / 255\n",
        "\n",
        "# x_train = x_train.reshape(-1, 28*28)\n",
        "# x_test = x_test.reshape(-1, 28*28)\n",
        "\n",
        "x_train = x_train.reshape(-1, 28, 28, 1)\n",
        "x_test = x_test.reshape(-1, 28, 28, 1)\n",
        "# 28,28, 1은 채널 \n",
        "\n",
        "model = keras.Sequential()    # 순차적 모델, 함수형 모델도 있음.\n",
        "\n",
        "model.add(keras.layers.InputLayer(input_shape=[28, 28, 1]))   \n",
        "\n",
        "# input를 입력해 줌 ( 항상 입력하는 습관 들여야 함. )\n",
        "\n",
        "model.add(keras.layers.Conv2D(filters = 5, kernel_size=[3, 3], strides=[1,1], padding='same'))\n",
        "\n",
        "# model.add(keras.layers.Conv2D(5, [3, 3], [1,1], 'same')) 생략해서 많이 씀.\n",
        "# Convolution 2D를 쓰는 것\n",
        "# filter의 값은 하이퍼파라미터 (지정해주는 값)\n",
        "# kernel = filter를 의미\n",
        "# padding = valid => 사이즈가 바뀜 28 -> 26 / same => 사이즈 그대로 \n",
        "# 이때까지는 4차원!\n",
        "\n",
        "model.add(keras.layers.MaxPool2D(pool_size = [2, 2], strides= 2, padding = 'same'))\n",
        "\n",
        "# model.add(keras.layers.Reshape([3380]))\n",
        "\n",
        "# model.add(keras.layers.Flatten())\n",
        "# Flatten() => 위에 (28,28,1) 3차원을 1차원으로 풀어주는 것 \n",
        "# dense로 넘어가면서 차원을 2차원으로 변경 해야 함. Reshape과 Flatten 사용!\n",
        "\n",
        "model.add(keras.layers.Dense(10, activation = 'softmax'))\n",
        "\n",
        "model.compile(optimizer = keras.optimizers.SGD(0.01),\n",
        "              loss = keras.losses.sparse_categorical_crossentropy,\n",
        "              metrics = ['acc'])\n",
        "\n",
        "model.fit(x_train, y_train, epochs = 1, batch_size = 100, verbose = 2, \n",
        "          validation_data=[x_test, y_test])\n",
        "\n",
        "model.summary()"
      ],
      "metadata": {
        "id": "SVPG4uYticjL"
      },
      "execution_count": null,
      "outputs": []
    }
  ]
}