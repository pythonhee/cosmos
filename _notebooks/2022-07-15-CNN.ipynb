{
  "nbformat": 4,
  "nbformat_minor": 0,
  "metadata": {
    "colab": {
      "name": "2022-07-15.CNN.ipynb",
      "provenance": []
    },
    "kernelspec": {
      "name": "python3",
      "display_name": "Python 3"
    },
    "language_info": {
      "name": "python"
    }
  },
  "cells": [
    {
      "cell_type": "markdown",
      "source": [
        "# 20_1_fashion_mnist\n",
        "`Q` fashion-mnist 데이터셋에 대한 모델을 구축하시오\n"
      ],
      "metadata": {
        "id": "19trYvZpXzXW"
      }
    },
    {
      "cell_type": "code",
      "source": [
        "from tensorflow import keras\n",
        "import numpy as np"
      ],
      "metadata": {
        "id": "J8n9p4GKbcQ0"
      },
      "execution_count": 13,
      "outputs": []
    },
    {
      "cell_type": "code",
      "source": [
        "fashion = keras.datasets.fashion_mnist.load_data()"
      ],
      "metadata": {
        "id": "GwCKDAjfbcLL"
      },
      "execution_count": null,
      "outputs": []
    },
    {
      "cell_type": "code",
      "source": [
        "print(type(fashion), len(fashion))"
      ],
      "metadata": {
        "colab": {
          "base_uri": "https://localhost:8080/"
        },
        "id": "1LV2LrNQbb_x",
        "outputId": "9d24b63b-c143-4911-bab2-877475bfc3d1"
      },
      "execution_count": 3,
      "outputs": [
        {
          "output_type": "stream",
          "name": "stdout",
          "text": [
            "<class 'tuple'> 2\n"
          ]
        }
      ]
    },
    {
      "cell_type": "code",
      "source": [
        "print(type(fashion[0]), len(fashion[0]))    "
      ],
      "metadata": {
        "colab": {
          "base_uri": "https://localhost:8080/"
        },
        "id": "8EFOp-yAbboq",
        "outputId": "e96f0e11-de3c-49a1-c027-5c91c849d384"
      },
      "execution_count": 4,
      "outputs": [
        {
          "output_type": "stream",
          "name": "stdout",
          "text": [
            "<class 'tuple'> 2\n"
          ]
        }
      ]
    },
    {
      "cell_type": "code",
      "source": [
        "(x_train, y_train), (x_test, y_test) = fashion"
      ],
      "metadata": {
        "id": "m6xo0SORb1Gz"
      },
      "execution_count": 6,
      "outputs": []
    },
    {
      "cell_type": "code",
      "source": [
        "print('x shape:', x_train.shape)\n",
        "print('y shape:', y_train.shape)"
      ],
      "metadata": {
        "colab": {
          "base_uri": "https://localhost:8080/"
        },
        "id": "5pYgBW_Zb91h",
        "outputId": "3b351540-8cba-4e03-c834-2dc2565bb340"
      },
      "execution_count": 9,
      "outputs": [
        {
          "output_type": "stream",
          "name": "stdout",
          "text": [
            "x shape: (60000, 28, 28)\n",
            "y shape: (60000,)\n"
          ]
        }
      ]
    },
    {
      "cell_type": "code",
      "source": [
        "print(sorted(set(y_train)))       # 따라서 sparse 이용해야 함. "
      ],
      "metadata": {
        "colab": {
          "base_uri": "https://localhost:8080/"
        },
        "id": "7-f067jcb9m8",
        "outputId": "0b5fe29a-ad54-4bc6-fc28-797fb22903e6"
      },
      "execution_count": 10,
      "outputs": [
        {
          "output_type": "stream",
          "name": "stdout",
          "text": [
            "[0, 1, 2, 3, 4, 5, 6, 7, 8, 9]\n"
          ]
        }
      ]
    },
    {
      "cell_type": "code",
      "source": [
        "x_train = x_train.reshape(-1, 28, 28, 1)        # 색상까지 입력해서 총 4차원으로 만들어 줌.\n",
        "x_test = x_test.reshape(-1, 28, 28, 1)\n",
        "\n",
        "# t_train = t_train[:, :, :, np.newaxis]        # 이런 방법으로 reshape 가능\n",
        "# x_test = x_test[:, :, :, np.newaxis]"
      ],
      "metadata": {
        "id": "RkFfad5FiJeh"
      },
      "execution_count": 12,
      "outputs": []
    },
    {
      "cell_type": "code",
      "source": [
        "x_train = x_train / 255                         # 정규화\n",
        "x_test = x_test / 255"
      ],
      "metadata": {
        "id": "zEc1QhM2fL-l"
      },
      "execution_count": 23,
      "outputs": []
    },
    {
      "cell_type": "code",
      "source": [
        "model = keras.Sequential()"
      ],
      "metadata": {
        "id": "eE1bFTD-cwm0"
      },
      "execution_count": 29,
      "outputs": []
    },
    {
      "cell_type": "code",
      "source": [
        "# model.add(keras.layers.InputLayer(input_shape=[28, 28, 1]))\n",
        "model.add(keras.layers.InputLayer(x_train.shape[1:]))"
      ],
      "metadata": {
        "id": "uRJ-XclIdO1P"
      },
      "execution_count": 30,
      "outputs": []
    },
    {
      "cell_type": "code",
      "source": [
        "model.add(keras.layers.Conv2D(6, [3, 3], 1, 'same', activation='relu'))\n",
        "model.add(keras.layers.MaxPool2D([2, 2], 2, 'same'))\n",
        "model.add(keras.layers.Conv2D(16, [3, 3], 1, 'same', activation='relu'))\n",
        "model.add(keras.layers.MaxPool2D([2, 2], 2, 'same'))\n",
        "model.add(keras.layers.Conv2D(32, [3, 3], 1, 'same', activation='relu'))\n",
        "model.add(keras.layers.MaxPool2D([2, 2], 2, 'same'))"
      ],
      "metadata": {
        "id": "T1LRI4bKdglz"
      },
      "execution_count": 32,
      "outputs": []
    },
    {
      "cell_type": "code",
      "source": [
        "model.add(keras.layers.Flatten())"
      ],
      "metadata": {
        "id": "POoRdXyed7fV"
      },
      "execution_count": 33,
      "outputs": []
    },
    {
      "cell_type": "code",
      "source": [
        "model.add(keras.layers.Dense(128, activation='relu'))\n",
        "model.add(keras.layers.Dropout(0.5))\n",
        "model.add(keras.layers.Dense(10, activation='softmax')) #sparse => softmax를 보기 쉽게 만든 버전."
      ],
      "metadata": {
        "id": "9o0slcMQeGFz"
      },
      "execution_count": 34,
      "outputs": []
    },
    {
      "cell_type": "code",
      "source": [
        "model.summary()"
      ],
      "metadata": {
        "colab": {
          "base_uri": "https://localhost:8080/"
        },
        "id": "M9Snzgp6eW0_",
        "outputId": "d42dfff7-57da-4462-fc54-a32987d31704"
      },
      "execution_count": 35,
      "outputs": [
        {
          "output_type": "stream",
          "name": "stdout",
          "text": [
            "Model: \"sequential_1\"\n",
            "_________________________________________________________________\n",
            " Layer (type)                Output Shape              Param #   \n",
            "=================================================================\n",
            " conv2d_4 (Conv2D)           (None, 28, 28, 6)         60        \n",
            "                                                                 \n",
            " max_pooling2d_3 (MaxPooling  (None, 14, 14, 6)        0         \n",
            " 2D)                                                             \n",
            "                                                                 \n",
            " conv2d_5 (Conv2D)           (None, 14, 14, 16)        880       \n",
            "                                                                 \n",
            " max_pooling2d_4 (MaxPooling  (None, 7, 7, 16)         0         \n",
            " 2D)                                                             \n",
            "                                                                 \n",
            " conv2d_6 (Conv2D)           (None, 7, 7, 32)          4640      \n",
            "                                                                 \n",
            " max_pooling2d_5 (MaxPooling  (None, 4, 4, 32)         0         \n",
            " 2D)                                                             \n",
            "                                                                 \n",
            " conv2d_7 (Conv2D)           (None, 4, 4, 32)          9248      \n",
            "                                                                 \n",
            " max_pooling2d_6 (MaxPooling  (None, 2, 2, 32)         0         \n",
            " 2D)                                                             \n",
            "                                                                 \n",
            " conv2d_8 (Conv2D)           (None, 2, 2, 6)           1734      \n",
            "                                                                 \n",
            " max_pooling2d_7 (MaxPooling  (None, 1, 1, 6)          0         \n",
            " 2D)                                                             \n",
            "                                                                 \n",
            " conv2d_9 (Conv2D)           (None, 1, 1, 16)          880       \n",
            "                                                                 \n",
            " max_pooling2d_8 (MaxPooling  (None, 1, 1, 16)         0         \n",
            " 2D)                                                             \n",
            "                                                                 \n",
            " conv2d_10 (Conv2D)          (None, 1, 1, 32)          4640      \n",
            "                                                                 \n",
            " max_pooling2d_9 (MaxPooling  (None, 1, 1, 32)         0         \n",
            " 2D)                                                             \n",
            "                                                                 \n",
            " flatten_1 (Flatten)         (None, 32)                0         \n",
            "                                                                 \n",
            " dense_4 (Dense)             (None, 128)               4224      \n",
            "                                                                 \n",
            " dropout_1 (Dropout)         (None, 128)               0         \n",
            "                                                                 \n",
            " dense_5 (Dense)             (None, 10)                1290      \n",
            "                                                                 \n",
            "=================================================================\n",
            "Total params: 27,596\n",
            "Trainable params: 27,596\n",
            "Non-trainable params: 0\n",
            "_________________________________________________________________\n"
          ]
        }
      ]
    },
    {
      "cell_type": "code",
      "source": [
        "model.compile(optimizer=keras.optimizers.Adam(0.001),\n",
        "              loss=keras.losses.sparse_categorical_crossentropy,\n",
        "              metrics=['acc'])"
      ],
      "metadata": {
        "id": "QpkgCHvgeYVT"
      },
      "execution_count": 36,
      "outputs": []
    },
    {
      "cell_type": "code",
      "source": [
        "model.fit(x_train, y_train, epochs = 10, batch_size=100, verbose= 2, \n",
        "          validation_data =(x_test, y_test))"
      ],
      "metadata": {
        "colab": {
          "base_uri": "https://localhost:8080/"
        },
        "id": "D3PFSJg2epEz",
        "outputId": "ab137f4e-5993-4377-ae6d-cdc91c8ea88c"
      },
      "execution_count": 37,
      "outputs": [
        {
          "output_type": "stream",
          "name": "stdout",
          "text": [
            "Epoch 1/10\n",
            "600/600 - 112s - loss: 1.1153 - acc: 0.5671 - val_loss: 0.7104 - val_acc: 0.7124 - 112s/epoch - 187ms/step\n",
            "Epoch 2/10\n",
            "600/600 - 34s - loss: 0.6264 - acc: 0.7642 - val_loss: 0.5295 - val_acc: 0.7937 - 34s/epoch - 57ms/step\n",
            "Epoch 3/10\n",
            "600/600 - 34s - loss: 0.5182 - acc: 0.8050 - val_loss: 0.4875 - val_acc: 0.8179 - 34s/epoch - 57ms/step\n",
            "Epoch 4/10\n",
            "600/600 - 35s - loss: 0.4639 - acc: 0.8312 - val_loss: 0.4769 - val_acc: 0.8253 - 35s/epoch - 58ms/step\n",
            "Epoch 5/10\n",
            "600/600 - 36s - loss: 0.4232 - acc: 0.8487 - val_loss: 0.4219 - val_acc: 0.8454 - 36s/epoch - 59ms/step\n",
            "Epoch 6/10\n",
            "600/600 - 34s - loss: 0.3887 - acc: 0.8615 - val_loss: 0.3679 - val_acc: 0.8673 - 34s/epoch - 57ms/step\n",
            "Epoch 7/10\n",
            "600/600 - 34s - loss: 0.3660 - acc: 0.8702 - val_loss: 0.3683 - val_acc: 0.8692 - 34s/epoch - 57ms/step\n",
            "Epoch 8/10\n",
            "600/600 - 36s - loss: 0.3413 - acc: 0.8795 - val_loss: 0.3519 - val_acc: 0.8722 - 36s/epoch - 59ms/step\n",
            "Epoch 9/10\n",
            "600/600 - 34s - loss: 0.3264 - acc: 0.8853 - val_loss: 0.3433 - val_acc: 0.8749 - 34s/epoch - 57ms/step\n",
            "Epoch 10/10\n",
            "600/600 - 34s - loss: 0.3174 - acc: 0.8881 - val_loss: 0.3242 - val_acc: 0.8840 - 34s/epoch - 57ms/step\n"
          ]
        },
        {
          "output_type": "execute_result",
          "data": {
            "text/plain": [
              "<keras.callbacks.History at 0x7f630ef4d950>"
            ]
          },
          "metadata": {},
          "execution_count": 37
        }
      ]
    },
    {
      "cell_type": "code",
      "source": [
        ""
      ],
      "metadata": {
        "id": "tmwlidtCfHIS"
      },
      "execution_count": null,
      "outputs": []
    },
    {
      "cell_type": "markdown",
      "source": [
        "# 20_2_VGG16\n",
        "`Q` VGG16 모델을 만드세요\n",
        " - 파라미터 개수가 1억 3천 8백만개쯤인지 확인합니다."
      ],
      "metadata": {
        "id": "24Wr9w4wh_5w"
      }
    },
    {
      "cell_type": "code",
      "source": [
        "from tensorflow import keras"
      ],
      "metadata": {
        "id": "V5_5l01SiDpX"
      },
      "execution_count": 49,
      "outputs": []
    },
    {
      "cell_type": "code",
      "source": [
        "model = keras.Sequential()"
      ],
      "metadata": {
        "id": "8s2RsHMelEC_"
      },
      "execution_count": 50,
      "outputs": []
    },
    {
      "cell_type": "code",
      "source": [
        "model.add(keras.layers.InputLayer([224, 224, 3]))"
      ],
      "metadata": {
        "id": "LeIFgugOlOU3"
      },
      "execution_count": 51,
      "outputs": []
    },
    {
      "cell_type": "code",
      "source": [
        "model.add(keras.layers.Conv2D(64, [3, 3], 1, 'same', activation='relu'))\n",
        "model.add(keras.layers.Conv2D(64, [3, 3], 1, 'same', activation='relu'))\n",
        "model.add(keras.layers.MaxPool2D([2, 2], 2, 'same'))"
      ],
      "metadata": {
        "id": "pNwwz910l1zc"
      },
      "execution_count": 56,
      "outputs": []
    },
    {
      "cell_type": "code",
      "source": [
        "model.add(keras.layers.Conv2D(128, [3, 3], 1, 'same', activation='relu'))\n",
        "model.add(keras.layers.Conv2D(128, [3, 3], 1, 'same', activation='relu'))\n",
        "model.add(keras.layers.MaxPool2D([2, 2], 2, 'same'))"
      ],
      "metadata": {
        "id": "vcyczX2RmocL"
      },
      "execution_count": 57,
      "outputs": []
    },
    {
      "cell_type": "code",
      "source": [
        "model.add(keras.layers.Conv2D(256, [3, 3], 1, 'same', activation='relu'))\n",
        "model.add(keras.layers.Conv2D(256, [3, 3], 1, 'same', activation='relu'))\n",
        "model.add(keras.layers.Conv2D(256, [3, 3], 1, 'same', activation='relu'))\n",
        "model.add(keras.layers.MaxPool2D([2, 2], 2, 'same'))"
      ],
      "metadata": {
        "id": "9sRZCGIrrCx0"
      },
      "execution_count": 58,
      "outputs": []
    },
    {
      "cell_type": "code",
      "source": [
        "model.add(keras.layers.Conv2D(512, [3, 3], 1, 'same', activation='relu'))\n",
        "model.add(keras.layers.Conv2D(512, [3, 3], 1, 'same', activation='relu'))\n",
        "model.add(keras.layers.Conv2D(512, [3, 3], 1, 'same', activation='relu'))\n",
        "model.add(keras.layers.MaxPool2D([2, 2], 2, 'same'))"
      ],
      "metadata": {
        "id": "Otdx57fwrHRG"
      },
      "execution_count": 59,
      "outputs": []
    },
    {
      "cell_type": "code",
      "source": [
        "model.add(keras.layers.Conv2D(512, [3, 3], 1, 'same', activation='relu'))\n",
        "model.add(keras.layers.Conv2D(512, [3, 3], 1, 'same', activation='relu'))\n",
        "model.add(keras.layers.Conv2D(512, [3, 3], 1, 'same', activation='relu'))\n",
        "model.add(keras.layers.MaxPool2D([2, 2], 2, 'same'))"
      ],
      "metadata": {
        "id": "0YJ6kYKLrKD0"
      },
      "execution_count": 60,
      "outputs": []
    },
    {
      "cell_type": "code",
      "source": [
        "model.add(keras.layers.Flatten())\n",
        "model.add(keras.layers.Dense(4096, activation = 'relu'))\n",
        "model.add(keras.layers.Dense(4096, activation = 'relu'))\n",
        "model.add(keras.layers.Dense(1000, activation = 'softmax'))"
      ],
      "metadata": {
        "id": "qgDEcl2Oqe1R"
      },
      "execution_count": 61,
      "outputs": []
    },
    {
      "cell_type": "code",
      "source": [
        "model.summary()"
      ],
      "metadata": {
        "colab": {
          "base_uri": "https://localhost:8080/"
        },
        "id": "8Fn8HFCztv0d",
        "outputId": "fd9b9a9e-c447-4506-daf7-6952b6107914"
      },
      "execution_count": 62,
      "outputs": [
        {
          "output_type": "stream",
          "name": "stdout",
          "text": [
            "Model: \"sequential_3\"\n",
            "_________________________________________________________________\n",
            " Layer (type)                Output Shape              Param #   \n",
            "=================================================================\n",
            " conv2d_11 (Conv2D)          (None, 224, 224, 64)      1792      \n",
            "                                                                 \n",
            " conv2d_12 (Conv2D)          (None, 224, 224, 64)      36928     \n",
            "                                                                 \n",
            " conv2d_13 (Conv2D)          (None, 224, 224, 64)      36928     \n",
            "                                                                 \n",
            " conv2d_14 (Conv2D)          (None, 224, 224, 64)      36928     \n",
            "                                                                 \n",
            " max_pooling2d_10 (MaxPoolin  (None, 112, 112, 64)     0         \n",
            " g2D)                                                            \n",
            "                                                                 \n",
            " conv2d_15 (Conv2D)          (None, 112, 112, 64)      36928     \n",
            "                                                                 \n",
            " conv2d_16 (Conv2D)          (None, 112, 112, 64)      36928     \n",
            "                                                                 \n",
            " max_pooling2d_11 (MaxPoolin  (None, 56, 56, 64)       0         \n",
            " g2D)                                                            \n",
            "                                                                 \n",
            " conv2d_17 (Conv2D)          (None, 56, 56, 128)       73856     \n",
            "                                                                 \n",
            " conv2d_18 (Conv2D)          (None, 56, 56, 128)       147584    \n",
            "                                                                 \n",
            " max_pooling2d_12 (MaxPoolin  (None, 28, 28, 128)      0         \n",
            " g2D)                                                            \n",
            "                                                                 \n",
            " conv2d_19 (Conv2D)          (None, 28, 28, 256)       295168    \n",
            "                                                                 \n",
            " conv2d_20 (Conv2D)          (None, 28, 28, 256)       590080    \n",
            "                                                                 \n",
            " conv2d_21 (Conv2D)          (None, 28, 28, 256)       590080    \n",
            "                                                                 \n",
            " max_pooling2d_13 (MaxPoolin  (None, 14, 14, 256)      0         \n",
            " g2D)                                                            \n",
            "                                                                 \n",
            " conv2d_22 (Conv2D)          (None, 14, 14, 512)       1180160   \n",
            "                                                                 \n",
            " conv2d_23 (Conv2D)          (None, 14, 14, 512)       2359808   \n",
            "                                                                 \n",
            " conv2d_24 (Conv2D)          (None, 14, 14, 512)       2359808   \n",
            "                                                                 \n",
            " max_pooling2d_14 (MaxPoolin  (None, 7, 7, 512)        0         \n",
            " g2D)                                                            \n",
            "                                                                 \n",
            " conv2d_25 (Conv2D)          (None, 7, 7, 512)         2359808   \n",
            "                                                                 \n",
            " conv2d_26 (Conv2D)          (None, 7, 7, 512)         2359808   \n",
            "                                                                 \n",
            " conv2d_27 (Conv2D)          (None, 7, 7, 512)         2359808   \n",
            "                                                                 \n",
            " max_pooling2d_15 (MaxPoolin  (None, 4, 4, 512)        0         \n",
            " g2D)                                                            \n",
            "                                                                 \n",
            " flatten_2 (Flatten)         (None, 8192)              0         \n",
            "                                                                 \n",
            " dense_6 (Dense)             (None, 4096)              33558528  \n",
            "                                                                 \n",
            " dense_7 (Dense)             (None, 4096)              16781312  \n",
            "                                                                 \n",
            " dense_8 (Dense)             (None, 1000)              4097000   \n",
            "                                                                 \n",
            "=================================================================\n",
            "Total params: 69,299,240\n",
            "Trainable params: 69,299,240\n",
            "Non-trainable params: 0\n",
            "_________________________________________________________________\n"
          ]
        }
      ]
    },
    {
      "cell_type": "markdown",
      "source": [
        "# 20_3_adult\n",
        "`Q`  adult.data 파일 읽어서 80% 학습하고 20%에 대해 결과를 구하세요"
      ],
      "metadata": {
        "id": "7P1YJNiprS9E"
      }
    },
    {
      "cell_type": "code",
      "source": [
        "import pandas as pd\n",
        "from tensorflow import keras\n",
        "import numpy as np\n",
        "from sklearn import preprocessing, model_selection"
      ],
      "metadata": {
        "id": "Agv3WI6CrYN5"
      },
      "execution_count": 67,
      "outputs": []
    },
    {
      "cell_type": "code",
      "source": [
        "names = 'age,workclass,fnlwgt,education,education-num, marital-status,occupation,relactionship,race,sex,capital-gain,capital-loss,hours-per-week,income'\n",
        "adult = pd.read_csv('/content/adult.data', names = names.split(','))\n",
        "\n",
        "print(adult.describe())\n",
        "adult.info()"
      ],
      "metadata": {
        "colab": {
          "base_uri": "https://localhost:8080/"
        },
        "id": "uMSdWYoGuQjy",
        "outputId": "f25ad356-0fec-4b95-806b-6411860cfbe8"
      },
      "execution_count": 83,
      "outputs": [
        {
          "output_type": "stream",
          "name": "stdout",
          "text": [
            "          workclass     education           sex  capital-gain  capital-loss\n",
            "count  3.256100e+04  32561.000000  32561.000000  32561.000000  32561.000000\n",
            "mean   1.897784e+05     10.080679   1077.648844     87.303830     40.437456\n",
            "std    1.055500e+05      2.572720   7385.292085    402.960219     12.347429\n",
            "min    1.228500e+04      1.000000      0.000000      0.000000      1.000000\n",
            "25%    1.178270e+05      9.000000      0.000000      0.000000     40.000000\n",
            "50%    1.783560e+05     10.000000      0.000000      0.000000     40.000000\n",
            "75%    2.370510e+05     12.000000      0.000000      0.000000     45.000000\n",
            "max    1.484705e+06     16.000000  99999.000000   4356.000000     99.000000\n",
            "<class 'pandas.core.frame.DataFrame'>\n",
            "Int64Index: 32561 entries, 39 to 52\n",
            "Data columns (total 14 columns):\n",
            " #   Column           Non-Null Count  Dtype \n",
            "---  ------           --------------  ----- \n",
            " 0   age              32561 non-null  object\n",
            " 1   workclass        32561 non-null  int64 \n",
            " 2   fnlwgt           32561 non-null  object\n",
            " 3   education        32561 non-null  int64 \n",
            " 4   education-num    32561 non-null  object\n",
            " 5    marital-status  32561 non-null  object\n",
            " 6   occupation       32561 non-null  object\n",
            " 7   relactionship    32561 non-null  object\n",
            " 8   race             32561 non-null  object\n",
            " 9   sex              32561 non-null  int64 \n",
            " 10  capital-gain     32561 non-null  int64 \n",
            " 11  capital-loss     32561 non-null  int64 \n",
            " 12  hours-per-week   32561 non-null  object\n",
            " 13  income           32561 non-null  object\n",
            "dtypes: int64(5), object(9)\n",
            "memory usage: 3.7+ MB\n"
          ]
        }
      ]
    },
    {
      "cell_type": "code",
      "source": [
        "x = adult['age'].values\n",
        "x = np.int32(x)"
      ],
      "metadata": {
        "colab": {
          "base_uri": "https://localhost:8080/",
          "height": 190
        },
        "id": "2B3i3BFS56Mn",
        "outputId": "1848fdc7-0435-4042-a038-b07c1800273c"
      },
      "execution_count": 86,
      "outputs": [
        {
          "output_type": "error",
          "ename": "ValueError",
          "evalue": "ignored",
          "traceback": [
            "\u001b[0;31m---------------------------------------------------------------------------\u001b[0m",
            "\u001b[0;31mValueError\u001b[0m                                Traceback (most recent call last)",
            "\u001b[0;32m<ipython-input-86-7d828690ec81>\u001b[0m in \u001b[0;36m<module>\u001b[0;34m()\u001b[0m\n\u001b[1;32m      1\u001b[0m \u001b[0mx\u001b[0m \u001b[0;34m=\u001b[0m \u001b[0madult\u001b[0m\u001b[0;34m[\u001b[0m\u001b[0;34m'age'\u001b[0m\u001b[0;34m]\u001b[0m\u001b[0;34m.\u001b[0m\u001b[0mvalues\u001b[0m\u001b[0;34m\u001b[0m\u001b[0;34m\u001b[0m\u001b[0m\n\u001b[0;32m----> 2\u001b[0;31m \u001b[0mx\u001b[0m \u001b[0;34m=\u001b[0m \u001b[0mnp\u001b[0m\u001b[0;34m.\u001b[0m\u001b[0mint32\u001b[0m\u001b[0;34m(\u001b[0m\u001b[0mx\u001b[0m\u001b[0;34m)\u001b[0m\u001b[0;34m\u001b[0m\u001b[0;34m\u001b[0m\u001b[0m\n\u001b[0m",
            "\u001b[0;31mValueError\u001b[0m: invalid literal for int() with base 10: ' State-gov'"
          ]
        }
      ]
    },
    {
      "cell_type": "code",
      "source": [
        "x = adult.values[:, :-1]\n",
        "y = adult.values[:, -1:]"
      ],
      "metadata": {
        "id": "R_J1ujPHuWUj"
      },
      "execution_count": 70,
      "outputs": []
    },
    {
      "cell_type": "code",
      "source": [
        "print('x shape:', x.shape)\n",
        "print('y shape:', y.shape)"
      ],
      "metadata": {
        "colab": {
          "base_uri": "https://localhost:8080/"
        },
        "id": "YYXruCBhuYHA",
        "outputId": "0bc52250-520e-4a27-ce20-4b5bd610f4cf"
      },
      "execution_count": 71,
      "outputs": [
        {
          "output_type": "stream",
          "name": "stdout",
          "text": [
            "x shape: (32560, 14)\n",
            "y shape: (32560, 1)\n"
          ]
        }
      ]
    },
    {
      "cell_type": "code",
      "source": [
        "print(y)          # 항목이 두가지 밖에 없으므로 logistic regression을 이용해야 함. "
      ],
      "metadata": {
        "colab": {
          "base_uri": "https://localhost:8080/"
        },
        "id": "tWpioJRhvwnW",
        "outputId": "9033041e-9ae6-4473-db40-8632e16f3311"
      },
      "execution_count": 72,
      "outputs": [
        {
          "output_type": "stream",
          "name": "stdout",
          "text": [
            "[[' <=50K']\n",
            " [' <=50K']\n",
            " [' <=50K']\n",
            " ...\n",
            " [' <=50K']\n",
            " [' <=50K']\n",
            " [' >50K']]\n"
          ]
        }
      ]
    },
    {
      "cell_type": "code",
      "source": [
        "y = preprocessing.LabelBinarizer(y)"
      ],
      "metadata": {
        "colab": {
          "base_uri": "https://localhost:8080/",
          "height": 172
        },
        "id": "t1Nl5EYvv1Zu",
        "outputId": "f3db016b-76be-4bc0-ec65-7ac7f5186201"
      },
      "execution_count": 78,
      "outputs": [
        {
          "output_type": "error",
          "ename": "TypeError",
          "evalue": "ignored",
          "traceback": [
            "\u001b[0;31m---------------------------------------------------------------------------\u001b[0m",
            "\u001b[0;31mTypeError\u001b[0m                                 Traceback (most recent call last)",
            "\u001b[0;32m<ipython-input-78-adb09f2ecd21>\u001b[0m in \u001b[0;36m<module>\u001b[0;34m()\u001b[0m\n\u001b[0;32m----> 1\u001b[0;31m \u001b[0my\u001b[0m \u001b[0;34m=\u001b[0m \u001b[0mpreprocessing\u001b[0m\u001b[0;34m.\u001b[0m\u001b[0mLabelBinarizer\u001b[0m\u001b[0;34m(\u001b[0m\u001b[0my\u001b[0m\u001b[0;34m)\u001b[0m\u001b[0;34m\u001b[0m\u001b[0;34m\u001b[0m\u001b[0m\n\u001b[0m",
            "\u001b[0;31mTypeError\u001b[0m: __init__() takes 1 positional argument but 2 were given"
          ]
        }
      ]
    },
    {
      "cell_type": "code",
      "source": [
        ""
      ],
      "metadata": {
        "id": "M6HomyCDwiL9"
      },
      "execution_count": null,
      "outputs": []
    }
  ]
}