{
  "nbformat": 4,
  "nbformat_minor": 0,
  "metadata": {
    "colab": {
      "name": "2022-07-06-CNN.ipynb",
      "provenance": []
    },
    "kernelspec": {
      "name": "python3",
      "display_name": "Python 3"
    },
    "language_info": {
      "name": "python"
    },
    "accelerator": "GPU",
    "gpuClass": "standard"
  },
  "cells": [
    {
      "cell_type": "markdown",
      "source": [
        "# keras를 이용한 linear_regression\n",
        "\n",
        "- toc:true\n",
        "- branch: master\n",
        "- badges: true\n",
        "- comments: true\n",
        "- author: \n",
        "\n"
      ],
      "metadata": {
        "id": "CmuoPSXms_Z_"
      }
    },
    {
      "cell_type": "markdown",
      "source": [
        "## 13_1_keras_linear_regression\n",
        "\n"
      ],
      "metadata": {
        "id": "9hbeJ2wZBpxK"
      }
    },
    {
      "cell_type": "code",
      "source": [
        "import numpy as np\n",
        "import tensorflow as tf\n",
        "from tensorflow import keras"
      ],
      "metadata": {
        "id": "k8skoxrNttBc"
      },
      "execution_count": 2,
      "outputs": []
    },
    {
      "cell_type": "markdown",
      "source": [
        "- linear_regression 함수 생성"
      ],
      "metadata": {
        "id": "J2keY1SRccp7"
      }
    },
    {
      "cell_type": "code",
      "source": [
        "def linear_regression():\n",
        "  x = [[1],\n",
        "       [2],\n",
        "       [3]]\n",
        "\n",
        "  y = [[1],\n",
        "       [2],\n",
        "       [3]]\n",
        "\n",
        "# predict 생성\n",
        "  model = keras.Sequential()              # 순서대로 layer를 쌓아가는 모델\n",
        "  model.add(keras.layers.Dense(1))        # output layer 개수로 지정한다.\n",
        "\n",
        "# optimizer, loss 생성\n",
        "  model.compile(optimizer = keras.optimizers.SGD(0.1),\n",
        "                loss = keras.losses.mse)\n",
        "  \n",
        "  model.fit(x, y, epochs = 10, verbose = 2)  # verbose(0: 출력 x, 1: 전부출력, 2: 일부출력)\n",
        "  print('mse:', model.evaluate(x, y, verbose=0))\n",
        "\n",
        "  print(model.predict(x))\n",
        "\n",
        "# x = 5, 7일 때 y 예측\n",
        "\n",
        "  print(model.predict([[5],\n",
        "                      [7]])) \n",
        "\n",
        "linear_regression()"
      ],
      "metadata": {
        "id": "N6Kz70tx3xnL",
        "colab": {
          "base_uri": "https://localhost:8080/"
        },
        "outputId": "32207e76-10bb-4cf2-ff97-a329cfa8a9e7"
      },
      "execution_count": 4,
      "outputs": [
        {
          "output_type": "stream",
          "name": "stdout",
          "text": [
            "Epoch 1/10\n",
            "1/1 - 0s - loss: 23.8470 - 198ms/epoch - 198ms/step\n",
            "Epoch 2/10\n",
            "1/1 - 0s - loss: 0.3785 - 6ms/epoch - 6ms/step\n",
            "Epoch 3/10\n",
            "1/1 - 0s - loss: 0.0937 - 7ms/epoch - 7ms/step\n",
            "Epoch 4/10\n",
            "1/1 - 0s - loss: 0.0861 - 8ms/epoch - 8ms/step\n",
            "Epoch 5/10\n",
            "1/1 - 0s - loss: 0.0820 - 6ms/epoch - 6ms/step\n",
            "Epoch 6/10\n",
            "1/1 - 0s - loss: 0.0781 - 7ms/epoch - 7ms/step\n",
            "Epoch 7/10\n",
            "1/1 - 0s - loss: 0.0744 - 7ms/epoch - 7ms/step\n",
            "Epoch 8/10\n",
            "1/1 - 0s - loss: 0.0708 - 10ms/epoch - 10ms/step\n",
            "Epoch 9/10\n",
            "1/1 - 0s - loss: 0.0675 - 7ms/epoch - 7ms/step\n",
            "Epoch 10/10\n",
            "1/1 - 0s - loss: 0.0643 - 7ms/epoch - 7ms/step\n",
            "mse: 0.06121388077735901\n",
            "[[1.3658723]\n",
            " [2.0785158]\n",
            " [2.7911594]]\n",
            "[[4.2164464]\n",
            " [5.6417336]]\n"
          ]
        }
      ]
    },
    {
      "cell_type": "markdown",
      "source": [
        "- cars 프로젝트"
      ],
      "metadata": {
        "id": "E2I1-AvR92Xk"
      }
    },
    {
      "cell_type": "code",
      "source": [
        "import pandas as pd"
      ],
      "metadata": {
        "id": "mp6O60hbgN5e"
      },
      "execution_count": 5,
      "outputs": []
    },
    {
      "cell_type": "code",
      "source": [
        "def linear_regression_cars():\n",
        "  cars = pd.read_csv('/content/cars.csv')\n",
        "\n",
        "  x = cars.values[:,-1].reshape([-1,1])\n",
        "  y = cars.values[:, -1:]\n",
        "\n",
        "  print(x.shape, y.shape)\n",
        "\n",
        "  model = keras.Sequential()\n",
        "  model.add(keras.layers.Dense(1))\n",
        "\n",
        "  model.compile(optimizer = keras.optimizers.SGD(0.001),\n",
        "                loss = keras.losses.mse)\n",
        "  \n",
        "  model.fit(x, y, epochs = 10, verbose = 2)\n",
        "\n",
        "  print('mse:', model.evaluate(x, y, verbose = 0))\n",
        "\n",
        "  p = model.predict([[0],\n",
        "                    [40]])\n",
        "  print(p)\n"
      ],
      "metadata": {
        "id": "oc4NBqs77Ija"
      },
      "execution_count": 25,
      "outputs": []
    },
    {
      "cell_type": "code",
      "source": [
        "linear_regression_cars()"
      ],
      "metadata": {
        "colab": {
          "base_uri": "https://localhost:8080/"
        },
        "id": "vK5e7tPb7cNs",
        "outputId": "982d13e8-8f2f-4f6a-bf43-250038e2b8ee"
      },
      "execution_count": 26,
      "outputs": [
        {
          "output_type": "stream",
          "name": "stdout",
          "text": [
            "(50, 1) (50, 1)\n",
            "Epoch 1/10\n",
            "2/2 - 0s - loss: 49522.4414 - 208ms/epoch - 104ms/step\n",
            "Epoch 2/10\n",
            "2/2 - 0s - loss: 15688008.0000 - 10ms/epoch - 5ms/step\n",
            "Epoch 3/10\n",
            "2/2 - 0s - loss: 4629734912.0000 - 7ms/epoch - 3ms/step\n",
            "Epoch 4/10\n",
            "2/2 - 0s - loss: 1032738504704.0000 - 8ms/epoch - 4ms/step\n",
            "Epoch 5/10\n",
            "2/2 - 0s - loss: 168208048848896.0000 - 8ms/epoch - 4ms/step\n",
            "Epoch 6/10\n",
            "2/2 - 0s - loss: 52226544621322240.0000 - 7ms/epoch - 4ms/step\n",
            "Epoch 7/10\n",
            "2/2 - 0s - loss: 14645528966836781056.0000 - 8ms/epoch - 4ms/step\n",
            "Epoch 8/10\n",
            "2/2 - 0s - loss: 3239783737339091615744.0000 - 7ms/epoch - 4ms/step\n",
            "Epoch 9/10\n",
            "2/2 - 0s - loss: 1040827486342347633983488.0000 - 8ms/epoch - 4ms/step\n",
            "Epoch 10/10\n",
            "2/2 - 0s - loss: 267117468816796729760284672.0000 - 8ms/epoch - 4ms/step\n",
            "mse: 8.870804287314401e+27\n",
            "[[-3.7911986e+10]\n",
            " [-7.5389024e+13]]\n"
          ]
        }
      ]
    }
  ]
}