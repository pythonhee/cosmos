{
  "nbformat": 4,
  "nbformat_minor": 0,
  "metadata": {
    "colab": {
      "name": "2022-06-29-CNN.ipynb",
      "provenance": []
    },
    "kernelspec": {
      "name": "python3",
      "display_name": "Python 3"
    },
    "language_info": {
      "name": "python"
    }
  },
  "cells": [
    {
      "cell_type": "markdown",
      "source": [
        "# multiple regression 함수 생성 및 trees 프로젝트\n",
        "\n",
        "- toc:true\n",
        "- branch: master\n",
        "- badges: true\n",
        "- comments: true\n",
        "- author: \n",
        "\n"
      ],
      "metadata": {
        "id": "CmuoPSXms_Z_"
      }
    },
    {
      "cell_type": "markdown",
      "source": [
        "## 8_1_multiple_regression\n",
        "\n"
      ],
      "metadata": {
        "id": "9hbeJ2wZBpxK"
      }
    },
    {
      "cell_type": "markdown",
      "source": [
        "`Q` mean_square_error함수를 생성하시오 ( tensorflow 이용)"
      ],
      "metadata": {
        "id": "Z0ehmZA-B7fg"
      }
    },
    {
      "cell_type": "code",
      "source": [
        "import tensorflow as tf"
      ],
      "metadata": {
        "id": "k8skoxrNttBc"
      },
      "execution_count": null,
      "outputs": []
    },
    {
      "cell_type": "code",
      "source": [
        "def mean_square_error(y, p):\n",
        "  return tf.reduce_mean((p - y) ** 2)"
      ],
      "metadata": {
        "id": "_CKPKIA3ByHp"
      },
      "execution_count": null,
      "outputs": []
    },
    {
      "cell_type": "markdown",
      "source": [
        "`Q` multiple_regression_1 함수를 생성하시오\n",
        "- x1, x2, y 각각에 학습시간, 출석일수, 성적을 입력하시오\n",
        "- 3시간 7일 출석한 학생의 성적과 5시간 2일 출석한 학생의 성적을 예측하시오"
      ],
      "metadata": {
        "id": "duL8ob1_MdLE"
      }
    },
    {
      "cell_type": "code",
      "source": [
        "def multiple_regression_1():\n",
        "  def predict(x1, x2, w1, w2, b):\n",
        "    return w1 * x1 + w2 * x2 + b\n",
        "\n",
        "  x1 = [1, 2, 4, 5, 8, 9]           # 학습시간(feature)\n",
        "  x2 = [2, 1, 5, 4, 9, 8]           # 출석일수(feature)\n",
        "  y = [3, 3, 9, 9, 17, 17]          # 성적(target)\n",
        "\n",
        "  w1 = tf.Variable(tf.random.uniform([1]))\n",
        "  w2 = tf.Variable(tf.random.uniform([1]))\n",
        "  b = tf.Variable(tf.random.uniform([1]))\n",
        "# uniform => 0과 1 사이의 값을 뽑아냄을 의미\n",
        "\n",
        "  optimizer = tf.keras.optimizers.SGD(0.01)\n",
        "\n",
        "  for i in range(10):\n",
        "    with tf.GradientTape() as tape:\n",
        "      hx = predict(x1, x2, w1, w2, b)\n",
        "      loss = mean_square_error(y, hx)\n",
        "\n",
        "    gradient1 = tape.gradient(loss, [w1, w2, b])\n",
        "    optimizer.apply_gradients(zip(gradient1, [w1, w2, b]))\n",
        "\n",
        "    print('loss', i,':', loss.numpy())\n",
        "\n",
        "  print((predict([3, 5], [7, 2], w1, w2, b)).numpy())\n",
        "\n",
        "\n",
        "multiple_regression_1()\n",
        "  "
      ],
      "metadata": {
        "id": "Rt0OpOMoMYCc",
        "colab": {
          "base_uri": "https://localhost:8080/"
        },
        "outputId": "c723f6fa-1281-49ca-fe77-eb614374fda1"
      },
      "execution_count": null,
      "outputs": [
        {
          "output_type": "stream",
          "name": "stdout",
          "text": [
            "loss 0 : 47.203053\n",
            "loss 1 : 3.7405622\n",
            "loss 2 : 0.37543377\n",
            "loss 3 : 0.11339698\n",
            "loss 4 : 0.09153383\n",
            "loss 5 : 0.08828778\n",
            "loss 6 : 0.08651274\n",
            "loss 7 : 0.08488051\n",
            "loss 8 : 0.08328822\n",
            "loss 9 : 0.081727535\n",
            "[11.106106   6.2939324]\n"
          ]
        }
      ]
    },
    {
      "cell_type": "markdown",
      "source": [
        "`Q`multiple_regression_2함수를 생성하시오\n",
        "- multiple_regression_1함수의 x를 2차원으로 수정하시오 \n",
        "- 3시간 7일 출석한 학생의 성적과 5시간 2일 출석한 학생의 성적을 예측하시오"
      ],
      "metadata": {
        "id": "_JlnLrEGNjBM"
      }
    },
    {
      "cell_type": "code",
      "source": [
        "def multiple_regression_2():\n",
        "  def predict(x, w, b):\n",
        "    return w[0] * x[0] + w[1] * x[1] + b\n",
        "\n",
        "  x = [[1, 2, 4, 5, 8, 9], \n",
        "       [2, 1, 5, 4, 9, 8]]           \n",
        "  y = [3, 3, 9, 9, 17, 17]       \n",
        "\n",
        "  w = tf.Variable(tf.random.uniform([2]))\n",
        "  b = tf.Variable(tf.random.uniform([1]))\n",
        "\n",
        "  optimizer = tf.keras.optimizers.SGD(0.01)\n",
        "\n",
        "  for i in range(10):\n",
        "    with tf.GradientTape() as tape:\n",
        "      hx = predict(x, w, b)\n",
        "      loss = mean_square_error(y, hx)\n",
        "\n",
        "    gradient1 = tape.gradient(loss, [w, b])\n",
        "    optimizer.apply_gradients(zip(gradient1, [w, b]))\n",
        "\n",
        "    print('loss', i,':', loss.numpy())\n",
        "\n",
        "  print((predict([[3, 5],\n",
        "                 [7, 2]], w, b)).numpy())\n",
        "\n",
        "multiple_regression_2()"
      ],
      "metadata": {
        "id": "g9t2-S9eNfMY",
        "colab": {
          "base_uri": "https://localhost:8080/"
        },
        "outputId": "489645a0-9223-40f2-d377-f4761397b62f"
      },
      "execution_count": null,
      "outputs": [
        {
          "output_type": "stream",
          "name": "stdout",
          "text": [
            "loss 0 : 38.81918\n",
            "loss 1 : 3.1677961\n",
            "loss 2 : 0.4060636\n",
            "loss 3 : 0.18964745\n",
            "loss 4 : 0.17025714\n",
            "loss 5 : 0.16616128\n",
            "loss 6 : 0.16329564\n",
            "loss 7 : 0.16057101\n",
            "loss 8 : 0.1579019\n",
            "loss 9 : 0.15528084\n",
            "[8.841588 8.155771]\n"
          ]
        }
      ]
    },
    {
      "cell_type": "markdown",
      "source": [
        "`Q`multiple_regression_3함수를 생성하시오\n",
        "- multiple_regression_2함수의 b를 x, w로 표현하시오 \n",
        "- 3시간 7일 출석한 학생의 성적과 5시간 2일 출석한 학생의 성적을 예측하시오"
      ],
      "metadata": {
        "id": "sFu-pg2vz_Ne"
      }
    },
    {
      "cell_type": "code",
      "source": [
        "def multiple_regression_3():\n",
        "  def predict(x, w):\n",
        "    return w[0] * x[0] + w[1] * x[1] + w[2] * x[2]\n",
        "\n",
        "  x = [[1, 2, 4, 5, 8, 9], \n",
        "       [2, 1, 5, 4, 9, 8],\n",
        "       [1, 1, 1, 1, 1, 1]]    \n",
        "\n",
        "# 랜덤값 w에 1을 곱하면 랜덤값 bais가 만들어짐.   \n",
        "\n",
        "  y = [3, 3, 9, 9, 17, 17]       \n",
        "\n",
        "  w = tf.Variable(tf.random.uniform([3]))\n",
        "\n",
        "  optimizer = tf.keras.optimizers.SGD(0.01)\n",
        "\n",
        "  for i in range(10):\n",
        "    with tf.GradientTape() as tape:\n",
        "      hx = predict(x, w)\n",
        "      loss = mean_square_error(y, hx)\n",
        "\n",
        "    gradient1 = tape.gradient(loss, [w])\n",
        "    optimizer.apply_gradients(zip(gradient1, [w]))\n",
        "\n",
        "    print('loss', i,':', loss.numpy())\n",
        "\n",
        "  print((predict([[3, 5],\n",
        "                 [7, 2],\n",
        "                 [1, 1]], w)).numpy())\n",
        "\n",
        "multiple_regression_3()"
      ],
      "metadata": {
        "colab": {
          "base_uri": "https://localhost:8080/"
        },
        "id": "dYjQJeHzz-eX",
        "outputId": "1fde9901-a66e-4efa-f9ac-16eaba8cdb65"
      },
      "execution_count": null,
      "outputs": [
        {
          "output_type": "stream",
          "name": "stdout",
          "text": [
            "loss 0 : 96.91224\n",
            "loss 1 : 7.574183\n",
            "loss 2 : 0.6596628\n",
            "loss 3 : 0.12375581\n",
            "loss 4 : 0.08148614\n",
            "loss 5 : 0.07742756\n",
            "loss 6 : 0.07633486\n",
            "loss 7 : 0.07548061\n",
            "loss 8 : 0.074653834\n",
            "loss 9 : 0.07383793\n",
            "[9.837608  7.4470196]\n"
          ]
        }
      ]
    },
    {
      "cell_type": "markdown",
      "source": [
        "`Q` predict함수를 행렬 곱셈으로 수정하시오. \n",
        "- 3시간 7일 출석한 학생의 성적과 5시간 2일 출석한 학생의 성적을 예측하시오"
      ],
      "metadata": {
        "id": "-R5zd9bQY-lk"
      }
    },
    {
      "cell_type": "code",
      "source": [
        "# 행렬 곱셈\n",
        "# (2, 3) = (2, 1) @ (1, 3)\n",
        "# (4, 7) = (4, 5) @ (5, 7)"
      ],
      "metadata": {
        "id": "zC6YiVKv4H9o"
      },
      "execution_count": null,
      "outputs": []
    },
    {
      "cell_type": "code",
      "source": [
        "def multiple_regression_4():\n",
        "  def predict(x, w):\n",
        "    return w @ x\n",
        "\n",
        "  x = [[1, 1, 1, 1, 1, 1],        # (3, 6)\n",
        "       [1, 2, 4, 5, 8, 9], \n",
        "       [2, 1, 5, 4, 9, 8]]  \n",
        "\n",
        "# bias를 맨 앞으로 빼면 x[0]은 항상 bias가 된다.  \n",
        "\n",
        "  y = [3, 3, 9, 9, 17, 17]        # (1, 6)\n",
        "\n",
        "  w = tf.Variable(tf.random.uniform([1, 3]))\n",
        "\n",
        "  # (1, 6) = (1, 3) @ (3, 6) \n",
        "\n",
        "  optimizer = tf.keras.optimizers.SGD(0.01)\n",
        "\n",
        "  for i in range(10):\n",
        "    with tf.GradientTape() as tape:\n",
        "      hx = predict(x, w)\n",
        "      loss = mean_square_error(y, hx)\n",
        "\n",
        "    gradient1 = tape.gradient(loss, [w])\n",
        "    optimizer.apply_gradients(zip(gradient1, [w]))\n",
        "\n",
        "    print('loss', i,':', loss.numpy())\n",
        "\n",
        "  print((predict([[3, 5],\n",
        "                 [7, 2],\n",
        "                 [1, 1]], w)).numpy())\n",
        "  \n",
        "multiple_regression_4()"
      ],
      "metadata": {
        "id": "Y7QcKIrrS_jb",
        "colab": {
          "base_uri": "https://localhost:8080/"
        },
        "outputId": "77ea9396-2fd1-4f58-88ab-43f7871302fd"
      },
      "execution_count": null,
      "outputs": [
        {
          "output_type": "stream",
          "name": "stdout",
          "text": [
            "loss 0 : 11.735768\n",
            "loss 1 : 1.0764436\n",
            "loss 2 : 0.24968064\n",
            "loss 3 : 0.1838627\n",
            "loss 4 : 0.17695399\n",
            "loss 5 : 0.17462564\n",
            "loss 6 : 0.17267202\n",
            "loss 7 : 0.17076845\n",
            "loss 8 : 0.16888906\n",
            "loss 9 : 0.16703147\n",
            "[[10.494066   6.7657413]]\n"
          ]
        }
      ]
    },
    {
      "cell_type": "markdown",
      "source": [
        "`Q` x, y 데이터를 정상적인 형태로 수정하시오\n",
        "- 3시간 7일 출석한 학생의 성적과 5시간 2일 출석한 학생의 성적을 예측하시오"
      ],
      "metadata": {
        "id": "XJ_dnkjFuQWQ"
      }
    },
    {
      "cell_type": "code",
      "source": [
        "def multiple_regression_5():\n",
        "  def predict(x, w):\n",
        "    return x @ w\n",
        "\n",
        "  x = [[1, 1, 2],         # (6, 3)\n",
        "       [1, 2, 1],\n",
        "       [1, 4, 5],\n",
        "       [1, 5, 4],\n",
        "       [1, 8, 9],\n",
        "       [1, 9, 8]] \n",
        "\n",
        "  y = [[3],               # (6, 1)\n",
        "       [3],\n",
        "       [9],\n",
        "       [9],\n",
        "       [17],\n",
        "       [17]] \n",
        "\n",
        "  w = tf.Variable(tf.random.uniform([3, 1]))\n",
        "\n",
        "  # (6, 1) = (6, 3) @ (3, 1) \n",
        "\n",
        "  optimizer = tf.keras.optimizers.SGD(0.01)\n",
        "\n",
        "  for i in range(10):\n",
        "    with tf.GradientTape() as tape:\n",
        "      hx = predict(x, w)\n",
        "      loss = mean_square_error(y, hx)\n",
        "\n",
        "    gradient1 = tape.gradient(loss, [w])\n",
        "    optimizer.apply_gradients(zip(gradient1, [w]))\n",
        "\n",
        "    print('loss', i,':', loss.numpy())\n",
        "\n",
        "  print((predict([[1, 3, 7],\n",
        "                 [1, 5, 2]], w)).numpy())\n",
        "  \n",
        "multiple_regression_5()"
      ],
      "metadata": {
        "id": "vt6yqY_jadgu",
        "colab": {
          "base_uri": "https://localhost:8080/"
        },
        "outputId": "51b7c12a-9108-4f7b-bf55-59b3ecd984b1"
      },
      "execution_count": null,
      "outputs": [
        {
          "output_type": "stream",
          "name": "stdout",
          "text": [
            "loss 0 : 49.38698\n",
            "loss 1 : 4.1087646\n",
            "loss 2 : 0.6009905\n",
            "loss 3 : 0.325809\n",
            "loss 4 : 0.30084586\n",
            "loss 5 : 0.29529974\n",
            "loss 6 : 0.29130933\n",
            "loss 7 : 0.28749108\n",
            "loss 8 : 0.2837371\n",
            "loss 9 : 0.2800387\n",
            "[[11.321725 ]\n",
            " [ 6.5633507]]\n"
          ]
        }
      ]
    },
    {
      "cell_type": "markdown",
      "source": [
        "`Q` multiple_regression_5 함수 x데이터에서 bias를 제거하시오\n",
        "- 3시간 7일 출석한 학생의 성적과 5시간 2일 출석한 학생의 성적을 예측하시오"
      ],
      "metadata": {
        "id": "Fhavot7fvvO-"
      }
    },
    {
      "cell_type": "code",
      "source": [
        "def multiple_regression_6():\n",
        "  def predict(x, w, b):\n",
        "    return x @ w + b\n",
        "\n",
        "  x = [[1, 2],         # (6, 2)\n",
        "       [2, 1],\n",
        "       [4, 5],\n",
        "       [5, 4],\n",
        "       [8, 9],\n",
        "       [9, 8]] \n",
        "\n",
        "  y = [[3],               # (6, 1)\n",
        "       [3],\n",
        "       [9],\n",
        "       [9],\n",
        "       [17],\n",
        "       [17]] \n",
        "\n",
        "  w = tf.Variable(tf.random.uniform([2, 1]))\n",
        "  b = tf.Variable(tf.random.uniform([1]))\n",
        "\n",
        "  # (6, 1) = (6, 2) @ (2, 1) \n",
        "\n",
        "  optimizer = tf.keras.optimizers.SGD(0.01)\n",
        "\n",
        "  for i in range(10):\n",
        "    with tf.GradientTape() as tape:\n",
        "      hx = predict(x, w, b)\n",
        "      loss = mean_square_error(y, hx)\n",
        "\n",
        "    gradient1 = tape.gradient(loss, [w, b])\n",
        "    optimizer.apply_gradients(zip(gradient1, [w, b]))\n",
        "\n",
        "    print('loss', i,':', loss.numpy())\n",
        "\n",
        "  print((predict([[3, 7],\n",
        "                 [5, 2]], w, b)).numpy())\n",
        "  \n",
        "multiple_regression_6()"
      ],
      "metadata": {
        "colab": {
          "base_uri": "https://localhost:8080/"
        },
        "id": "a_Jizae5vkyG",
        "outputId": "0f71527d-1832-4665-99dc-e60f993e1596"
      },
      "execution_count": null,
      "outputs": [
        {
          "output_type": "stream",
          "name": "stdout",
          "text": [
            "loss 0 : 34.05627\n",
            "loss 1 : 2.7618046\n",
            "loss 2 : 0.33846942\n",
            "loss 3 : 0.1494384\n",
            "loss 4 : 0.13333474\n",
            "loss 5 : 0.13063274\n",
            "loss 6 : 0.12898675\n",
            "loss 7 : 0.12744154\n",
            "loss 8 : 0.12592232\n",
            "loss 9 : 0.124423504\n",
            "[[9.571911 ]\n",
            " [7.7198853]]\n"
          ]
        }
      ]
    },
    {
      "cell_type": "markdown",
      "source": [
        "## 8_2_multiple_regression_trees"
      ],
      "metadata": {
        "id": "KQ0P9Fy29vlt"
      }
    },
    {
      "cell_type": "markdown",
      "source": [
        "`Q` trees.csv 파일을 읽어 regression모델을 구축하시오\n",
        "- Girth가 10, 15이고 Hight가 80, 90인 나무의 Volume을 예측하시오\n",
        "- mean_squared_error함수를 따로 생성하지 마시오\n"
      ],
      "metadata": {
        "id": "E2I1-AvR92Xk"
      }
    },
    {
      "cell_type": "code",
      "source": [
        "import pandas as pd\n",
        "import tensorflow as tf\n",
        "import numpy as np\n",
        "from tensorflow import keras"
      ],
      "metadata": {
        "id": "kaKzh-yG8VAS"
      },
      "execution_count": 35,
      "outputs": []
    },
    {
      "cell_type": "code",
      "source": [
        "trees = pd.read_csv('/content/trees.csv', index_col = 0)\n",
        "\n",
        "x = trees.values[: , :-1]         #(31, 2)\n",
        "y = trees.values[: , -1:]         #(31, 1)\n",
        "\n",
        "x = np.float32(x)                 # x 데이터가 소수이기 때문에 소수임을 알려줌\n",
        "\n",
        "print(x.shape, y.shape)"
      ],
      "metadata": {
        "colab": {
          "base_uri": "https://localhost:8080/"
        },
        "id": "d9zwJMrZh1xn",
        "outputId": "c83eaaa0-0722-4a5f-88f7-52e911c229be"
      },
      "execution_count": 26,
      "outputs": [
        {
          "output_type": "stream",
          "name": "stdout",
          "text": [
            "(31, 2) (31, 1)\n"
          ]
        }
      ]
    },
    {
      "cell_type": "code",
      "source": [
        "def Dense(x, w, b):                           # predict == Dense\n",
        "  return x @ w + b                            # @ => matmul 함수\n",
        "\n",
        "#[error] cannot compute MatMul as input #1(zero-based) was expected to be a double tensor but is a float tensor [Op:MatMul] \n",
        "\n",
        "w = tf.Variable(tf.random.uniform([2, 1]))    # (31, 1) = (31, 2) @ (2, 1)\n",
        "b = tf.Variable(tf.random.uniform([1]))\n",
        "\n",
        "optimizer = tf.keras.optimizers.SGD(0.0001)\n",
        "\n",
        "for i in range(10):\n",
        "  with tf.GradientTape() as tape:\n",
        "    hx = Dense(x, w, b)\n",
        "\n",
        "    mse = keras.losses.MeanSquaredError()\n",
        "    loss = mse(y, hx)\n",
        "\n",
        "  gradient1 = tape.gradient(loss, [w, b])\n",
        "  optimizer.apply_gradients(zip(gradient1, [w, b]))\n",
        "\n",
        "  print('loss:', loss.numpy())\n",
        "\n",
        "print(Dense([[10, 80],\n",
        "      [15, 90]], w, b).numpy())"
      ],
      "metadata": {
        "colab": {
          "base_uri": "https://localhost:8080/"
        },
        "id": "4Z3wzYSYiAF6",
        "outputId": "7488a73d-5469-44d1-d791-896b0d72b327"
      },
      "execution_count": 38,
      "outputs": [
        {
          "output_type": "stream",
          "name": "stdout",
          "text": [
            "loss: 1069.5492\n",
            "loss: 226.19978\n",
            "loss: 192.4283\n",
            "loss: 190.6749\n",
            "loss: 190.18892\n",
            "loss: 189.7542\n",
            "loss: 189.32265\n",
            "loss: 188.89243\n",
            "loss: 188.4634\n",
            "loss: 188.0356\n",
            "[[30.612682]\n",
            " [36.12542 ]]\n"
          ]
        }
      ]
    }
  ]
}