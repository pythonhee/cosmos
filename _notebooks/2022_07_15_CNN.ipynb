{
  "nbformat": 4,
  "nbformat_minor": 0,
  "metadata": {
    "colab": {
      "name": "2022-07-15.CNN.ipynb",
      "provenance": []
    },
    "kernelspec": {
      "name": "python3",
      "display_name": "Python 3"
    },
    "language_info": {
      "name": "python"
    }
  },
  "cells": [
    {
      "cell_type": "markdown",
      "source": [
        "# 20_1_fashion_mnist\n",
        "`Q` fashion-mnist 데이터셋에 대한 모델을 구축하시오\n"
      ],
      "metadata": {
        "id": "19trYvZpXzXW"
      }
    },
    {
      "cell_type": "code",
      "source": [
        "from tensorflow import keras\n",
        "import numpy as np"
      ],
      "metadata": {
        "id": "J8n9p4GKbcQ0"
      },
      "execution_count": 13,
      "outputs": []
    },
    {
      "cell_type": "code",
      "source": [
        "fashion = keras.datasets.fashion_mnist.load_data()"
      ],
      "metadata": {
        "id": "GwCKDAjfbcLL"
      },
      "execution_count": null,
      "outputs": []
    },
    {
      "cell_type": "code",
      "source": [
        "print(type(fashion), len(fashion))"
      ],
      "metadata": {
        "colab": {
          "base_uri": "https://localhost:8080/"
        },
        "id": "1LV2LrNQbb_x",
        "outputId": "9d24b63b-c143-4911-bab2-877475bfc3d1"
      },
      "execution_count": 3,
      "outputs": [
        {
          "output_type": "stream",
          "name": "stdout",
          "text": [
            "<class 'tuple'> 2\n"
          ]
        }
      ]
    },
    {
      "cell_type": "code",
      "source": [
        "print(type(fashion[0]), len(fashion[0]))    "
      ],
      "metadata": {
        "colab": {
          "base_uri": "https://localhost:8080/"
        },
        "id": "8EFOp-yAbboq",
        "outputId": "e96f0e11-de3c-49a1-c027-5c91c849d384"
      },
      "execution_count": 4,
      "outputs": [
        {
          "output_type": "stream",
          "name": "stdout",
          "text": [
            "<class 'tuple'> 2\n"
          ]
        }
      ]
    },
    {
      "cell_type": "code",
      "source": [
        "(x_train, y_train), (x_test, y_test) = fashion"
      ],
      "metadata": {
        "id": "m6xo0SORb1Gz"
      },
      "execution_count": 6,
      "outputs": []
    },
    {
      "cell_type": "code",
      "source": [
        "print('x shape:', x_train.shape)\n",
        "print('y shape:', y_train.shape)"
      ],
      "metadata": {
        "colab": {
          "base_uri": "https://localhost:8080/"
        },
        "id": "5pYgBW_Zb91h",
        "outputId": "3b351540-8cba-4e03-c834-2dc2565bb340"
      },
      "execution_count": 9,
      "outputs": [
        {
          "output_type": "stream",
          "name": "stdout",
          "text": [
            "x shape: (60000, 28, 28)\n",
            "y shape: (60000,)\n"
          ]
        }
      ]
    },
    {
      "cell_type": "code",
      "source": [
        "print(sorted(set(y_train)))       # 따라서 sparse 이용해야 함. "
      ],
      "metadata": {
        "colab": {
          "base_uri": "https://localhost:8080/"
        },
        "id": "7-f067jcb9m8",
        "outputId": "0b5fe29a-ad54-4bc6-fc28-797fb22903e6"
      },
      "execution_count": 10,
      "outputs": [
        {
          "output_type": "stream",
          "name": "stdout",
          "text": [
            "[0, 1, 2, 3, 4, 5, 6, 7, 8, 9]\n"
          ]
        }
      ]
    },
    {
      "cell_type": "code",
      "source": [
        "x_train = x_train.reshape(-1, 28, 28, 1)        # 색상까지 입력해서 총 4차원으로 만들어 줌.\n",
        "x_test = x_test.reshape(-1, 28, 28, 1)\n",
        "\n",
        "# t_train = t_train[:, :, :, np.newaxis]        # 이런 방법으로 reshape 가능\n",
        "# x_test = x_test[:, :, :, np.newaxis]"
      ],
      "metadata": {
        "id": "RkFfad5FiJeh"
      },
      "execution_count": 12,
      "outputs": []
    },
    {
      "cell_type": "code",
      "source": [
        "x_train = x_train / 255                         # 정규화\n",
        "x_test = x_test / 255"
      ],
      "metadata": {
        "id": "zEc1QhM2fL-l"
      },
      "execution_count": 23,
      "outputs": []
    },
    {
      "cell_type": "code",
      "source": [
        "model = keras.Sequential()"
      ],
      "metadata": {
        "id": "eE1bFTD-cwm0"
      },
      "execution_count": 29,
      "outputs": []
    },
    {
      "cell_type": "code",
      "source": [
        "# model.add(keras.layers.InputLayer(input_shape=[28, 28, 1]))\n",
        "model.add(keras.layers.InputLayer(x_train.shape[1:]))"
      ],
      "metadata": {
        "id": "uRJ-XclIdO1P"
      },
      "execution_count": 30,
      "outputs": []
    },
    {
      "cell_type": "code",
      "source": [
        "model.add(keras.layers.Conv2D(6, [3, 3], 1, 'same', activation='relu'))\n",
        "model.add(keras.layers.MaxPool2D([2, 2], 2, 'same'))\n",
        "model.add(keras.layers.Conv2D(16, [3, 3], 1, 'same', activation='relu'))\n",
        "model.add(keras.layers.MaxPool2D([2, 2], 2, 'same'))\n",
        "model.add(keras.layers.Conv2D(32, [3, 3], 1, 'same', activation='relu'))\n",
        "model.add(keras.layers.MaxPool2D([2, 2], 2, 'same'))"
      ],
      "metadata": {
        "id": "T1LRI4bKdglz"
      },
      "execution_count": 32,
      "outputs": []
    },
    {
      "cell_type": "code",
      "source": [
        "model.add(keras.layers.Flatten())"
      ],
      "metadata": {
        "id": "POoRdXyed7fV"
      },
      "execution_count": 33,
      "outputs": []
    },
    {
      "cell_type": "code",
      "source": [
        "model.add(keras.layers.Dense(128, activation='relu'))\n",
        "model.add(keras.layers.Dropout(0.5))\n",
        "model.add(keras.layers.Dense(10, activation='softmax')) #sparse => softmax를 보기 쉽게 만든 버전."
      ],
      "metadata": {
        "id": "9o0slcMQeGFz"
      },
      "execution_count": 34,
      "outputs": []
    },
    {
      "cell_type": "code",
      "source": [
        "model.summary()"
      ],
      "metadata": {
        "colab": {
          "base_uri": "https://localhost:8080/"
        },
        "id": "M9Snzgp6eW0_",
        "outputId": "d42dfff7-57da-4462-fc54-a32987d31704"
      },
      "execution_count": 35,
      "outputs": [
        {
          "output_type": "stream",
          "name": "stdout",
          "text": [
            "Model: \"sequential_1\"\n",
            "_________________________________________________________________\n",
            " Layer (type)                Output Shape              Param #   \n",
            "=================================================================\n",
            " conv2d_4 (Conv2D)           (None, 28, 28, 6)         60        \n",
            "                                                                 \n",
            " max_pooling2d_3 (MaxPooling  (None, 14, 14, 6)        0         \n",
            " 2D)                                                             \n",
            "                                                                 \n",
            " conv2d_5 (Conv2D)           (None, 14, 14, 16)        880       \n",
            "                                                                 \n",
            " max_pooling2d_4 (MaxPooling  (None, 7, 7, 16)         0         \n",
            " 2D)                                                             \n",
            "                                                                 \n",
            " conv2d_6 (Conv2D)           (None, 7, 7, 32)          4640      \n",
            "                                                                 \n",
            " max_pooling2d_5 (MaxPooling  (None, 4, 4, 32)         0         \n",
            " 2D)                                                             \n",
            "                                                                 \n",
            " conv2d_7 (Conv2D)           (None, 4, 4, 32)          9248      \n",
            "                                                                 \n",
            " max_pooling2d_6 (MaxPooling  (None, 2, 2, 32)         0         \n",
            " 2D)                                                             \n",
            "                                                                 \n",
            " conv2d_8 (Conv2D)           (None, 2, 2, 6)           1734      \n",
            "                                                                 \n",
            " max_pooling2d_7 (MaxPooling  (None, 1, 1, 6)          0         \n",
            " 2D)                                                             \n",
            "                                                                 \n",
            " conv2d_9 (Conv2D)           (None, 1, 1, 16)          880       \n",
            "                                                                 \n",
            " max_pooling2d_8 (MaxPooling  (None, 1, 1, 16)         0         \n",
            " 2D)                                                             \n",
            "                                                                 \n",
            " conv2d_10 (Conv2D)          (None, 1, 1, 32)          4640      \n",
            "                                                                 \n",
            " max_pooling2d_9 (MaxPooling  (None, 1, 1, 32)         0         \n",
            " 2D)                                                             \n",
            "                                                                 \n",
            " flatten_1 (Flatten)         (None, 32)                0         \n",
            "                                                                 \n",
            " dense_4 (Dense)             (None, 128)               4224      \n",
            "                                                                 \n",
            " dropout_1 (Dropout)         (None, 128)               0         \n",
            "                                                                 \n",
            " dense_5 (Dense)             (None, 10)                1290      \n",
            "                                                                 \n",
            "=================================================================\n",
            "Total params: 27,596\n",
            "Trainable params: 27,596\n",
            "Non-trainable params: 0\n",
            "_________________________________________________________________\n"
          ]
        }
      ]
    },
    {
      "cell_type": "code",
      "source": [
        "model.compile(optimizer=keras.optimizers.Adam(0.001),\n",
        "              loss=keras.losses.sparse_categorical_crossentropy,\n",
        "              metrics=['acc'])"
      ],
      "metadata": {
        "id": "QpkgCHvgeYVT"
      },
      "execution_count": 36,
      "outputs": []
    },
    {
      "cell_type": "code",
      "source": [
        "model.fit(x_train, y_train, epochs = 10, batch_size=100, verbose= 2, \n",
        "          validation_data =(x_test, y_test))"
      ],
      "metadata": {
        "colab": {
          "base_uri": "https://localhost:8080/"
        },
        "id": "D3PFSJg2epEz",
        "outputId": "ab137f4e-5993-4377-ae6d-cdc91c8ea88c"
      },
      "execution_count": 37,
      "outputs": [
        {
          "output_type": "stream",
          "name": "stdout",
          "text": [
            "Epoch 1/10\n",
            "600/600 - 112s - loss: 1.1153 - acc: 0.5671 - val_loss: 0.7104 - val_acc: 0.7124 - 112s/epoch - 187ms/step\n",
            "Epoch 2/10\n",
            "600/600 - 34s - loss: 0.6264 - acc: 0.7642 - val_loss: 0.5295 - val_acc: 0.7937 - 34s/epoch - 57ms/step\n",
            "Epoch 3/10\n",
            "600/600 - 34s - loss: 0.5182 - acc: 0.8050 - val_loss: 0.4875 - val_acc: 0.8179 - 34s/epoch - 57ms/step\n",
            "Epoch 4/10\n",
            "600/600 - 35s - loss: 0.4639 - acc: 0.8312 - val_loss: 0.4769 - val_acc: 0.8253 - 35s/epoch - 58ms/step\n",
            "Epoch 5/10\n",
            "600/600 - 36s - loss: 0.4232 - acc: 0.8487 - val_loss: 0.4219 - val_acc: 0.8454 - 36s/epoch - 59ms/step\n",
            "Epoch 6/10\n",
            "600/600 - 34s - loss: 0.3887 - acc: 0.8615 - val_loss: 0.3679 - val_acc: 0.8673 - 34s/epoch - 57ms/step\n",
            "Epoch 7/10\n",
            "600/600 - 34s - loss: 0.3660 - acc: 0.8702 - val_loss: 0.3683 - val_acc: 0.8692 - 34s/epoch - 57ms/step\n",
            "Epoch 8/10\n",
            "600/600 - 36s - loss: 0.3413 - acc: 0.8795 - val_loss: 0.3519 - val_acc: 0.8722 - 36s/epoch - 59ms/step\n",
            "Epoch 9/10\n",
            "600/600 - 34s - loss: 0.3264 - acc: 0.8853 - val_loss: 0.3433 - val_acc: 0.8749 - 34s/epoch - 57ms/step\n",
            "Epoch 10/10\n",
            "600/600 - 34s - loss: 0.3174 - acc: 0.8881 - val_loss: 0.3242 - val_acc: 0.8840 - 34s/epoch - 57ms/step\n"
          ]
        },
        {
          "output_type": "execute_result",
          "data": {
            "text/plain": [
              "<keras.callbacks.History at 0x7f630ef4d950>"
            ]
          },
          "metadata": {},
          "execution_count": 37
        }
      ]
    },
    {
      "cell_type": "code",
      "source": [
        ""
      ],
      "metadata": {
        "id": "tmwlidtCfHIS"
      },
      "execution_count": null,
      "outputs": []
    },
    {
      "cell_type": "markdown",
      "source": [
        "# 20_2_VGG16\n",
        "`Q` VGG16 모델을 만드세요\n",
        " - 파라미터 개수가 1억 3천 8백만개쯤인지 확인합니다."
      ],
      "metadata": {
        "id": "24Wr9w4wh_5w"
      }
    },
    {
      "cell_type": "code",
      "source": [
        ""
      ],
      "metadata": {
        "id": "V5_5l01SiDpX"
      },
      "execution_count": null,
      "outputs": []
    }
  ]
}