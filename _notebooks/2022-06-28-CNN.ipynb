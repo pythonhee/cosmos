{
  "nbformat": 4,
  "nbformat_minor": 0,
  "metadata": {
    "colab": {
      "name": "2022-06-28-CNN.ipynb",
      "provenance": [],
      "toc_visible": true
    },
    "kernelspec": {
      "name": "python3",
      "display_name": "Python 3"
    },
    "language_info": {
      "name": "python"
    }
  },
  "cells": [
    {
      "cell_type": "markdown",
      "source": [
        "# linear_regression 함수 생성 및 cars 프로젝트\n",
        "\n",
        "- toc:true\n",
        "- branch: master\n",
        "- badges: true\n",
        "- comments: true\n",
        "- author: \n",
        "\n",
        "\n",
        "\n"
      ],
      "metadata": {
        "id": "lx_uLCUDcf28"
      }
    },
    {
      "cell_type": "markdown",
      "source": [
        "## 7_1_linear_regression"
      ],
      "metadata": {
        "id": "BGPOQru4ciTK"
      }
    },
    {
      "cell_type": "code",
      "source": [
        "import tensorflow as tf"
      ],
      "metadata": {
        "id": "gKsGZSAqcfek"
      },
      "execution_count": null,
      "outputs": []
    },
    {
      "cell_type": "markdown",
      "source": [
        "`Q`  linear_regression 함수를 생성하시오\n",
        "- x가 5, 7일 때 y를 예측하시오"
      ],
      "metadata": {
        "id": "DmmQbxPTctlK"
      }
    },
    {
      "cell_type": "code",
      "source": [
        "def linear_regression_1():\n",
        "  x = [1, 2, 3]\n",
        "  y = [1, 2, 3]\n",
        "\n",
        "  w = tf.Variable(5.0)                        # tersorflow에서 변수설정 방법\n",
        "  b = tf.Variable(-3.0)\n",
        "\n",
        "  optimizer = tf.keras.optimizers.SGD(0.1)    # 6_1에서 w값을 점차 줄여주는 값 0.1 역할을 함.\n",
        "\n",
        "  for i in range(10):\n",
        "    with tf.GradientTape() as tape:           # GradientTape => 자동미분 함수 \n",
        "      hx = w * x + b\n",
        "      loss = tf.reduce_mean((hx - y) ** 2)    # cost 함수를 loss로 표현\n",
        "\n",
        "    gradient = tape.gradient(loss, [w, b])\n",
        "    optimizer.apply_gradients(zip(gradient, [w, b]))\n",
        "\n",
        "    print(i, loss.numpy())\n",
        "  print()\n",
        "\n",
        "  print((w * [5, 7] + b).numpy())\n",
        "    \n",
        "    "
      ],
      "metadata": {
        "id": "231qLuSIctKS"
      },
      "execution_count": null,
      "outputs": []
    },
    {
      "cell_type": "code",
      "execution_count": null,
      "metadata": {
        "colab": {
          "base_uri": "https://localhost:8080/"
        },
        "id": "tBxvg7V_cbSI",
        "outputId": "f8cbeede-a52a-49a3-e8ef-3a6a5d4fca08"
      },
      "outputs": [
        {
          "output_type": "stream",
          "name": "stdout",
          "text": [
            "0 35.666668\n",
            "1 2.5718524\n",
            "2 2.0746005\n",
            "3 1.9715753\n",
            "4 1.8778709\n",
            "5 1.7886696\n",
            "6 1.7037061\n",
            "7 1.622779\n",
            "8 1.5456957\n",
            "9 1.4722743\n",
            "\n",
            "[ 8.750337 13.501096]\n"
          ]
        }
      ],
      "source": [
        "linear_regression_1()"
      ]
    },
    {
      "cell_type": "markdown",
      "source": [
        "`Q` predict 함수와 mean_square_error 함수를 생성한 후 linear_regression 함수를 다시 생성하시오"
      ],
      "metadata": {
        "id": "upPTYDVSh7M2"
      }
    },
    {
      "cell_type": "code",
      "source": [
        "def linear_regression_2():\n",
        "  def predict(x, w, b):\n",
        "    return w * x + b\n",
        "\n",
        "  def mean_square_error(y, p):\n",
        "    return tf.reduce_mean((p - y) ** 2)\n",
        "\n",
        "  x = [1, 2, 3]\n",
        "  y = [1, 2, 3]\n",
        "\n",
        "  w = tf.Variable(tf.random.uniform([1]))     # w, b값을 랜덤으로 주는 함수식\n",
        "  b = tf.Variable(tf.random.uniform([1])) \n",
        "\n",
        "  optimizer = tf.keras.optimizers.SGD(0.1)\n",
        "\n",
        "  for i in range(10):\n",
        "    with tf.GradientTape() as tape:\n",
        "      hx = predict(x, w, b)\n",
        "      loss = mean_square_error(y, hx)\n",
        "\n",
        "    gradient = tape.gradient(loss, [w, b])\n",
        "    optimizer.apply_gradients(zip(gradient, [w, b]))\n",
        "\n",
        "    print(i, loss.numpy())\n",
        "  \n",
        "  print()\n"
      ],
      "metadata": {
        "id": "HZ4E_Z6diJhX"
      },
      "execution_count": null,
      "outputs": []
    },
    {
      "cell_type": "code",
      "source": [
        "linear_regression_2()"
      ],
      "metadata": {
        "colab": {
          "base_uri": "https://localhost:8080/"
        },
        "id": "ElDkwo4Jii41",
        "outputId": "6a7cbe8a-eba2-4408-b257-67efcb4bcaf5"
      },
      "execution_count": null,
      "outputs": [
        {
          "output_type": "stream",
          "name": "stdout",
          "text": [
            "0 1.7877704\n",
            "1 0.092918254\n",
            "2 0.069273576\n",
            "3 0.06575331\n",
            "4 0.06262723\n",
            "5 0.059652388\n",
            "6 0.056818843\n",
            "7 0.05411992\n",
            "8 0.051549185\n",
            "9 0.049100544\n",
            "\n"
          ]
        }
      ]
    },
    {
      "cell_type": "markdown",
      "source": [
        "## 7_2_linear_regression_cars"
      ],
      "metadata": {
        "id": "Yk2_LGKdjnpc"
      }
    },
    {
      "cell_type": "markdown",
      "source": [
        "`Q` cars.csv 파일을 읽어서 x, y를 반환하는 함수를 만드시오"
      ],
      "metadata": {
        "id": "0WZsKNMSjuLr"
      }
    },
    {
      "cell_type": "code",
      "source": [
        "import pandas as pd\n",
        "import tensorflow as tf"
      ],
      "metadata": {
        "id": "MuHZwBvgjU-N"
      },
      "execution_count": null,
      "outputs": []
    },
    {
      "cell_type": "code",
      "source": [
        "def make_xy():\n",
        "  cars = pd.read_csv('/content/cars.csv', index_col=0)\n",
        "\n",
        "  x = cars.values[:, 0]\n",
        "  y = cars.values[:, 1]\n",
        "\n",
        "  return x, y"
      ],
      "metadata": {
        "id": "bBrQ0823kBwR"
      },
      "execution_count": null,
      "outputs": []
    },
    {
      "cell_type": "code",
      "source": [
        "def linear_regression_cars():\n",
        "  def predict(x, w, b):\n",
        "    return w * x + b\n",
        "\n",
        "  def mean_square_error(y, p):\n",
        "    return tf.reduce_mean((p - y) ** 2)\n",
        "\n",
        "  x, y = make_xy()                              # x, y를 make_xy()에서 정의한 x, y로 설정.\n",
        "\n",
        "  w = tf.Variable(tf.random.uniform([1]))    \n",
        "  b = tf.Variable(tf.random.uniform([1])) \n",
        "\n",
        "  optimizer = tf.keras.optimizers.SGD(0.001)    \n",
        "\n",
        "  for i in range(10):\n",
        "    with tf.GradientTape() as tape:\n",
        "      hx = predict(x, w, b)\n",
        "      loss = mean_square_error(y, hx)\n",
        "\n",
        "    gradient = tape.gradient(loss, [w, b])\n",
        "    optimizer.apply_gradients(zip(gradient, [w, b]))\n",
        "\n",
        "    print(i, loss.numpy())                        # 데이터가 안좋기 때문에 loss값이 나쁠 수 밖에 없음. \n",
        "  \n",
        "  print()"
      ],
      "metadata": {
        "id": "oGvnTcc0kJFZ"
      },
      "execution_count": null,
      "outputs": []
    },
    {
      "cell_type": "code",
      "source": [
        "linear_regression_cars()"
      ],
      "metadata": {
        "colab": {
          "base_uri": "https://localhost:8080/"
        },
        "id": "wS_J9SRskK3P",
        "outputId": "63cc348d-6387-4a97-a6e9-491a1c0e3cd4"
      },
      "execution_count": null,
      "outputs": [
        {
          "output_type": "stream",
          "name": "stdout",
          "text": [
            "0 1966.6914\n",
            "1 637.76654\n",
            "2 345.33554\n",
            "3 280.9769\n",
            "4 266.80377\n",
            "5 263.67358\n",
            "6 262.97333\n",
            "7 262.80774\n",
            "8 262.7598\n",
            "9 262.73776\n",
            "\n"
          ]
        }
      ]
    },
    {
      "cell_type": "markdown",
      "source": [
        "`Q` 앞에서 학습한 모델의 회귀선을 그려보시오"
      ],
      "metadata": {
        "id": "RNNxiP2zmXqs"
      }
    },
    {
      "cell_type": "code",
      "source": [
        "import matplotlib.pyplot as plt"
      ],
      "metadata": {
        "id": "C6tysPnUlqSU"
      },
      "execution_count": null,
      "outputs": []
    },
    {
      "cell_type": "code",
      "source": [
        "def linear_regression_cars():\n",
        "  def predict(x, w, b):\n",
        "    return w * x + b\n",
        "\n",
        "  def mean_square_error(y, p):\n",
        "    return tf.reduce_mean((p - y) ** 2)\n",
        "\n",
        "  x, y = make_xy()                              # x, y를 make_xy()에서 정의한 x, y로 설정.\n",
        "\n",
        "  w = tf.Variable(tf.random.uniform([1]))    \n",
        "  b = tf.Variable(tf.random.uniform([1])) \n",
        "\n",
        "  optimizer = tf.keras.optimizers.SGD(0.001)    \n",
        "\n",
        "  for i in range(10):\n",
        "    with tf.GradientTape() as tape:\n",
        "      hx = predict(x, w, b)\n",
        "      loss = mean_square_error(y, hx)\n",
        "\n",
        "    gradient = tape.gradient(loss, [w, b])\n",
        "    optimizer.apply_gradients(zip(gradient, [w, b]))\n",
        "\n",
        "  plt.plot(x, y, 'ro')          # x의 범위가 대충 0~30임을 확인\n",
        "\n",
        "  s = predict([0], w, b)        # x=0 일때 y값\n",
        "  f = predict([30], w, b)       # x=30 일때 y값\n",
        "\n",
        "  plt.plot([0, 30], [s.numpy(), f.numpy()], 'b')\n",
        "\n",
        "  plt.show()\n",
        "\n"
      ],
      "metadata": {
        "id": "xMzdR6b9mllX"
      },
      "execution_count": null,
      "outputs": []
    },
    {
      "cell_type": "code",
      "source": [
        "linear_regression_cars()"
      ],
      "metadata": {
        "colab": {
          "base_uri": "https://localhost:8080/",
          "height": 265
        },
        "id": "vBgaPfizm0Yr",
        "outputId": "1ca14396-c21d-47b4-9ad3-ba436b4cf391"
      },
      "execution_count": null,
      "outputs": [
        {
          "output_type": "display_data",
          "data": {
            "text/plain": [
              "<Figure size 432x288 with 1 Axes>"
            ],
            "image/png": "[encoded data removed]"
          },
          "metadata": {
            "needs_background": "light"
          }
        }
      ]
    },
    {
      "cell_type": "code",
      "source": [
        ""
      ],
      "metadata": {
        "id": "uFVOWDmxm2o4"
      },
      "execution_count": null,
      "outputs": []
    }
  ]
}